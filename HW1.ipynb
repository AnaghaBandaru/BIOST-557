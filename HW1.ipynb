{
 "cells": [
  {
   "cell_type": "markdown",
   "id": "5fd2c666",
   "metadata": {},
   "source": [
    "# <font color=black>DATA 557 Homework 1</font>\n",
    "***\n",
    "### <font color=black>Question 1\n",
    "__Suppose that you flip a coin 40 times and count the number of heads.__</font>"
   ]
  },
  {
   "cell_type": "markdown",
   "id": "43ca0610",
   "metadata": {},
   "source": [
    "##### <font color=black> 1.1 What is the distribution of the number of heads assuming the coin is fair?</font>"
   ]
  },
  {
   "cell_type": "markdown",
   "id": "b1415af8",
   "metadata": {},
   "source": [
    "__A Binomial Distribution.__<br> \\\n",
    "Since a coin toss can take two values - Heads or Tails with a probability of p and 1-p respectively (p would be 0.5 for a fair coin).\n",
    "Binomial Distribution is used for cases like this where there are two mutually exclusive outcomes. "
   ]
  },
  {
   "cell_type": "markdown",
   "id": "adeeb4fa",
   "metadata": {},
   "source": [
    "##### <font color=black> 1.2 The sample proportion of heads has an approximately normal distribution. What are the mean and standard deviation of this distribution assuming the coin is fair?</font>"
   ]
  },
  {
   "cell_type": "markdown",
   "id": "e7c6d116",
   "metadata": {},
   "source": [
    "Since we are assuming that the coin is fair, p = 0.5 <br> \\\n",
    "Mean of the sample proportion of heads = 40 * 20/40 = 0.5"
   ]
  },
  {
   "cell_type": "code",
   "execution_count": 2,
   "id": "5ece1d73",
   "metadata": {},
   "outputs": [],
   "source": [
    "import pandas as pd\n",
    "import matplotlib.pyplot as plt\n",
    "import statistics as stat\n",
    "import numpy as np\n",
    "from scipy import stats"
   ]
  },
  {
   "cell_type": "code",
   "execution_count": 6,
   "id": "cd435020",
   "metadata": {},
   "outputs": [
    {
     "name": "stdout",
     "output_type": "stream",
     "text": [
      "\u001b[1mMean = 0.5\n",
      "Variance =  0.07905694150420949\n"
     ]
    }
   ],
   "source": [
    "var = np.sqrt(0.5*0.5/40)\n",
    "print('\\033[1m'+'Mean = 0.5')\n",
    "print('Variance = ',var)"
   ]
  },
  {
   "cell_type": "markdown",
   "id": "885fa93c",
   "metadata": {},
   "source": [
    "##### <font color=black> 1.3. Define the Z-statistic for conducting a test of the null hypothesis that the coin is fair (i.e., has probability of a head equal to 0.5)</font><br>"
   ]
  },
  {
   "cell_type": "markdown",
   "id": "3976e5b0",
   "metadata": {},
   "source": [
    "##### <font color=black> 1.4. Suppose the experiment results in 15 heads and 25 tails. Conduct a test of the null hypothesis with type I error probability 0.05 using the normal approximation. State the Z statistic, the p-value, and the conclusion of the test (do you reject the null hypothesis or not).</font>"
   ]
  },
  {
   "cell_type": "markdown",
   "id": "baa6119b",
   "metadata": {},
   "source": [
    "We can define the null hypothesis posed in the question as : <br>\n",
    "H0 :μ = 0.5<br> \\\n",
    "H1 :μ ≠ 0.5<br> \\\n",
    "α = 0.05 (95% of confidence level) \\\n",
    "\n",
    "We can define the rejection rule as <br> \\\n",
    "Reject H0 if |Z| = |X − 0.5| / s/√n  __>__  z score \n",
    "\n",
    "Using the Z table, for a significance level of 0.05, the z score is 1.96.<br> \n",
    "\n",
    "Therefore our, rejection rule is now :<br> \\\n",
    "Reject H0 if |Z| = |X − 0.5| / s/√n  __>__  1.96"
   ]
  },
  {
   "cell_type": "code",
   "execution_count": 7,
   "id": "0d3db896",
   "metadata": {},
   "outputs": [
    {
     "name": "stdout",
     "output_type": "stream",
     "text": [
      "\u001b[1mZ =  1.5811388300841895\n"
     ]
    }
   ],
   "source": [
    "Z = abs((15-20)/np.sqrt(10))\n",
    "print('\\033[1m'+'Z = ',Z)"
   ]
  },
  {
   "cell_type": "markdown",
   "id": "e0fdaf49",
   "metadata": {},
   "source": [
    "As Z statistic 1.58 is lower than 1.96, We do not have enough evidence to reject the null hypothesis.<br> \\\n",
    "Looking at the Z table we find p-value <br> \\\n",
    "__p-value : 0.1142__<br> \\\n",
    "We do __not reject__ the Null Hypothesis."
   ]
  },
  {
   "cell_type": "markdown",
   "id": "f5608d7c",
   "metadata": {},
   "source": [
    "##### <font color=black> 1.5. If you had decided to use a type I error probability of 0.1 instead of 0.05 would your conclusion be different? Explain.</font>"
   ]
  },
  {
   "cell_type": "markdown",
   "id": "e2eb3076",
   "metadata": {},
   "source": [
    "We can define the null hypothesis posed in the question as : <br> \\\n",
    "H0 :μ = 0.5<br> \\\n",
    "H1 :μ ≠ 0.5<br> \\\n",
    "α = 0.1 (90% of confidence level) \n",
    "\n",
    "Using the Z table, for a significance level of 0.1, the z score is 1.65.<br> \\\n",
    "rejection rule is :<br> \\\n",
    "Reject H0 if |Z| = |X − 0.5| / s/√n  __>__  1.65\n",
    "\n",
    "As Z statistic 1.58 is lower than 1.65, We __still__ do not have enough evidence to reject the null hypothesis.<br> \\\n",
    "We do __not reject__ the Null Hypothesis."
   ]
  },
  {
   "cell_type": "markdown",
   "id": "5214825a",
   "metadata": {},
   "source": [
    "##### <font color=black> 1.6. Calculate the p-value using the binomial distribution. Do you reach the same conclusion with the binomial distribution as with the normal approximation?</font>"
   ]
  },
  {
   "cell_type": "code",
   "execution_count": 8,
   "id": "879a1617",
   "metadata": {},
   "outputs": [
    {
     "name": "stdout",
     "output_type": "stream",
     "text": [
      "\u001b[1mExact p-value = 0.11727520595741228\n"
     ]
    }
   ],
   "source": [
    "area_left_reg_c = stats.binom.cdf(25,40, 0.5)\n",
    "area_left_reg = stats.binom.cdf(15,40, 0.5)\n",
    "p_val = (1-area_left_reg_c)+area_left_reg\n",
    "print('\\033[1m'+'Exact p-value =',p_val)"
   ]
  },
  {
   "cell_type": "markdown",
   "id": "9f604048",
   "metadata": {},
   "source": [
    "As the p-values are extremely similar, we can reach the same conclusion with both distributions."
   ]
  },
  {
   "cell_type": "markdown",
   "id": "fcb7584b",
   "metadata": {},
   "source": [
    "##### <font color=black> 1.7. Calculate a 95% confidence interval for the probability of a head using the normal approximation. Does the confidence interval include the value 0.5?</font>\n"
   ]
  },
  {
   "cell_type": "code",
   "execution_count": 9,
   "id": "d783f229",
   "metadata": {},
   "outputs": [
    {
     "name": "stdout",
     "output_type": "stream",
     "text": [
      "\u001b[1mConfidence Interval is : (0.224969,0.525031)\n"
     ]
    }
   ],
   "source": [
    "p = 15/40\n",
    "SE = np.sqrt((p)*(1-p)/40)\n",
    "A = p-1.96*SE # Z is 1.65 for significance level of 0.1\n",
    "B = p+1.96*SE\n",
    "print('\\033[1m'+'Confidence Interval is : (%f,%f)' %(A,B))"
   ]
  },
  {
   "cell_type": "markdown",
   "id": "d0dcb29e",
   "metadata": {},
   "source": [
    "0.5 is included in the Confidence Interval (0.224969,0.525031)"
   ]
  },
  {
   "cell_type": "markdown",
   "id": "ae78a8b1",
   "metadata": {},
   "source": [
    "##### <font color=black> 1.8. Calculate a 90% confidence interval for the probability of a head using the normal approximation.  How does it compare to the 95% confidence interval?</font>\n"
   ]
  },
  {
   "cell_type": "code",
   "execution_count": 10,
   "id": "83d0cdf2",
   "metadata": {},
   "outputs": [
    {
     "name": "stdout",
     "output_type": "stream",
     "text": [
      "\u001b[1mConfidence Interval is : (0.248698,0.501302)\n"
     ]
    }
   ],
   "source": [
    "p = 15/40\n",
    "SE = np.sqrt((p)*(1-p)/40)\n",
    "A = p-1.65*SE # Z is 1.65 for significance level of 0.1\n",
    "B = p+1.65*SE\n",
    "print('\\033[1m'+'Confidence Interval is : (%f,%f)' %(A,B))"
   ]
  },
  {
   "cell_type": "markdown",
   "id": "ac82b1f8",
   "metadata": {},
   "source": [
    "This confidence interval is narrower as we increased the significance level. This interval still includes 0.5."
   ]
  },
  {
   "cell_type": "markdown",
   "id": "bbad429c",
   "metadata": {},
   "source": [
    "***\n",
    "### <font color=black>Question 2\n",
    "__A study is done to determine if enhanced seatbelt enforcement has an effect on the proportion of drivers \n",
    "wearing seatbelts. Prior to the intervention (enhanced enforcement) the proportion of drivers wearing \n",
    "their seatbelt was 0.7. The researcher wishes to test the null hypothesis that the proportion of drivers \n",
    "wearing their seatbelt after the intervention is equal to 0.7 (i.e., unchanged from before). The alternative \n",
    "hypothesis is that the proportion of drivers wearing their seatbelt is not equal to 0.7 (either < 0.7 or > 0.7). \n",
    "After the intervention, a random sample of 400 drivers was selected and the number of drivers wearing \n",
    "their seatbelt was found to be 305.__</font>"
   ]
  },
  {
   "cell_type": "markdown",
   "id": "55097831",
   "metadata": {},
   "source": [
    "##### <font color=black> 2.1. Calculate the estimated standard error of the proportion of drivers wearing seatbelts after the intervention.</font>"
   ]
  },
  {
   "cell_type": "markdown",
   "id": "68cf8f13",
   "metadata": {},
   "source": [
    "Standard Error can be calculated by using the defined formula :\n"
   ]
  },
  {
   "cell_type": "code",
   "execution_count": 19,
   "id": "2cccf12e",
   "metadata": {},
   "outputs": [
    {
     "name": "stdout",
     "output_type": "stream",
     "text": [
      "\u001b[1mStandard Error :  0.021277555663186502\n"
     ]
    }
   ],
   "source": [
    "p = 305/400\n",
    "SE = np.sqrt((p)*(1-p)/400)\n",
    "print('\\033[1m'+'Standard Error : ',SE)"
   ]
  },
  {
   "cell_type": "markdown",
   "id": "7f92da99",
   "metadata": {},
   "source": [
    "##### <font color=black> 2.2. Calculate a 95% confidence interval for the proportion of drivers wearing seatbelts after the intervention. What conclusion would you draw based on the confidence interval?</font>\n"
   ]
  },
  {
   "cell_type": "markdown",
   "id": "9d403f8c",
   "metadata": {},
   "source": [
    "For 95% confidence level, we know the z score is 1.96. We can calculate Confidence Interval by formula as : <br>"
   ]
  },
  {
   "cell_type": "code",
   "execution_count": 20,
   "id": "d02778f3",
   "metadata": {},
   "outputs": [
    {
     "name": "stdout",
     "output_type": "stream",
     "text": [
      "\u001b[1mConfidence Interval is : (0.720796,0.804204)\n"
     ]
    }
   ],
   "source": [
    "A = p-1.96*SE\n",
    "B = p+1.96*SE\n",
    "print('\\033[1m'+'Confidence Interval is : (%f,%f)' %(A,B))"
   ]
  },
  {
   "cell_type": "markdown",
   "id": "629b5edc",
   "metadata": {},
   "source": [
    "We can define the null hypothesis posed in the question as : <br> \\\n",
    "H0 :μ = 0.7<br> \\\n",
    "H1 :μ ≠ 0.7<br> \\\n",
    "Since 0.7 is outside the confidence interval of (0.720796,0.804204) ,it would support our decision to __reject__ the null hypothesis."
   ]
  },
  {
   "cell_type": "markdown",
   "id": "afdeadcd",
   "metadata": {},
   "source": [
    "##### <font color=black> 2.3. Conduct a test of the null hypothesis with type I error probability 0.05 using the normal approximation. Should the null hypothesis be rejected? How does your conclusion compare to the conclusion from the confidence interval?</font>\n"
   ]
  },
  {
   "cell_type": "markdown",
   "id": "d7cba103",
   "metadata": {},
   "source": [
    "We can define the null hypothesis posed in the question as : <br>\n",
    "H0 :μ = 0.7<br> \\\n",
    "H1 :μ ≠ 0.7<br> \\\n",
    "α = 0.05 (95% of confidence level)\n",
    "\n",
    "We can define the rejection rule as <br> \\\n",
    "Reject H0 if |Z| = |X − 0.7| / s/√n  __>__  z score\n",
    "\n",
    "Using the Z table, for a significance level of 0.05, the z score is 1.96.<br> \\\n",
    "Therefore our, rejection rule is now : \\\n",
    "Reject H0 if |Z| = |X − 0.7| / s/√n  __>__  1.96"
   ]
  },
  {
   "cell_type": "code",
   "execution_count": 21,
   "id": "3cd2a488",
   "metadata": {},
   "outputs": [
    {
     "name": "stdout",
     "output_type": "stream",
     "text": [
      "\u001b[1mZ statistic =  2.7277236279499046\n"
     ]
    }
   ],
   "source": [
    "Z_stat = abs((p-0.7)/np.sqrt(0.7*0.3/400))\n",
    "print('\\033[1m'+'Z statistic = ', Z_stat)"
   ]
  },
  {
   "cell_type": "markdown",
   "id": "6873ce9d",
   "metadata": {},
   "source": [
    "Clearly, the rejection rule is satisfied because 2.727>1.96. Therefore, we can __reject__ the null hypothesis.<br> \\\n",
    "The confidence interval supports this conclusion like we discussed previously."
   ]
  },
  {
   "cell_type": "markdown",
   "id": "40a2ef47",
   "metadata": {},
   "source": [
    "##### <font color=black> 2.4. Calculate the approximate p-value using the normal approximation and the exact p-value using the binomial distribution.  Are the two p-values very different? </font>\n"
   ]
  },
  {
   "cell_type": "markdown",
   "id": "3c102eac",
   "metadata": {},
   "source": [
    "We can calculate the p-value using the normal approximation by using the Z table.<br> \\\n",
    "For Z = 2.72,<br> \\\n",
    "Area to the left of the Z-score is 0.99674<br> \\\n",
    "For Z = -2.72,<br> \\\n",
    "Area to the left of the Z-score is 0.0033"
   ]
  },
  {
   "cell_type": "code",
   "execution_count": 22,
   "id": "a0b15fd0",
   "metadata": {},
   "outputs": [
    {
     "name": "stdout",
     "output_type": "stream",
     "text": [
      "\u001b[1mp-value :  0.006560000000000041\n"
     ]
    }
   ],
   "source": [
    "p_value = (1-0.99674)+0.0033\n",
    "print('\\033[1m'+'p-value : ',p_value)"
   ]
  },
  {
   "cell_type": "code",
   "execution_count": 23,
   "id": "2577d5c4",
   "metadata": {},
   "outputs": [
    {
     "name": "stdout",
     "output_type": "stream",
     "text": [
      "\u001b[1mExact p-value :  0.006486987479680918\n"
     ]
    }
   ],
   "source": [
    "#Calculating the exact p-value using binomial distribution\n",
    "area_right_rejection_reg_c = stats.binom.cdf(305,400, 0.7)\n",
    "area_left_rejection_reg = stats.binom.cdf(255,400, 0.7)\n",
    "p_value_exact = (1-area_right_rejection_reg_c)+area_left_rejection_reg\n",
    "print('\\033[1m'+'Exact p-value : ',p_value_exact)"
   ]
  },
  {
   "cell_type": "markdown",
   "id": "73609a74",
   "metadata": {},
   "source": [
    "The two p-values are not very different so the assumption of a normal distribution is valid."
   ]
  },
  {
   "cell_type": "markdown",
   "id": "d5dc4461",
   "metadata": {},
   "source": [
    "##### <font color=black> 2.5. Calculate the power of the test to detect the alternative hypothesis that the proportion of drivers wearing their seatbelt after the intervention is equal to 0.8.</font>\n"
   ]
  },
  {
   "cell_type": "code",
   "execution_count": 24,
   "id": "19aaf96b",
   "metadata": {},
   "outputs": [
    {
     "name": "stdout",
     "output_type": "stream",
     "text": [
      "\u001b[1mpower :  0.9968981175053433\n"
     ]
    }
   ],
   "source": [
    "p = 0.7\n",
    "SE = np.sqrt((p)*(1-p)/400)\n",
    "A = p-1.96*SE\n",
    "B = p+1.96*SE\n",
    "area_left_reg_c = stats.binom.cdf(B*400, 400, 0.8)\n",
    "area_left_reg = stats.binom.cdf(A*400, 400, 0.8)\n",
    "print('\\033[1m'+'power : ',(1-area_left_reg_c)+area_left_reg)"
   ]
  },
  {
   "cell_type": "markdown",
   "id": "1fc52267",
   "metadata": {},
   "source": [
    "***\n",
    "### <font color=black>Question 3\n",
    "__The data come from a study of lead exposure and IQ in children. IQ scores were measured on a sample of \n",
    "children living in a community near a source of lead. The IQ scores were age-standardized using \n",
    "established normal values for the US population. Such age-standardized scores have a mean of 100 and a \n",
    "standard deviation of 15 in the US population.__</font>"
   ]
  },
  {
   "cell_type": "markdown",
   "id": "6c8bb405",
   "metadata": {},
   "source": [
    "##### <font color=black> 3.1. Create a histogram of the IQ variable. Is the distribution approximately normal?</font>\n"
   ]
  },
  {
   "cell_type": "code",
   "execution_count": 25,
   "id": "d2b0d3f3",
   "metadata": {},
   "outputs": [],
   "source": [
    "df = pd.read_csv(\"data/iq.csv\")"
   ]
  },
  {
   "cell_type": "code",
   "execution_count": 26,
   "id": "b9ac793e",
   "metadata": {},
   "outputs": [
    {
     "data": {
      "image/png": "[encoded data removed]",
      "text/plain": [
       "<Figure size 432x288 with 1 Axes>"
      ]
     },
     "metadata": {
      "needs_background": "light"
     },
     "output_type": "display_data"
    }
   ],
   "source": [
    "plt.hist(df['IQ'], bins=15,edgecolor='black', linewidth=1.2)  \n",
    "plt.axvline(df['IQ'].mean(), color='k', linestyle='dashed', linewidth=1)\n",
    "plt.xlabel('IQ');"
   ]
  },
  {
   "cell_type": "markdown",
   "id": "1489e099",
   "metadata": {},
   "source": [
    "I would assume that the above distribution is not approximately normal. It __roughly__ follows a bell curve but it is not symmetrical around the mean. Using a bigger sample __could__ allow us to assume normality."
   ]
  },
  {
   "cell_type": "markdown",
   "id": "2ef61d0d",
   "metadata": {},
   "source": [
    "##### <font color=black> 3.2. Calculate the sample mean and sample SD of IQ. How do they compare numerically to the USpopulation values?</font>\n"
   ]
  },
  {
   "cell_type": "code",
   "execution_count": 28,
   "id": "f06c4934",
   "metadata": {},
   "outputs": [
    {
     "name": "stdout",
     "output_type": "stream",
     "text": [
      "\u001b[1mMean =  91.08064516129032\n",
      "\u001b[1mStandard Deviation =  14.403927182528031\n"
     ]
    }
   ],
   "source": [
    "print('\\033[1m'+f'Mean = ',df['IQ'].mean())\n",
    "print('\\033[1m'+'Standard Deviation = ',stat.stdev(df['IQ']))"
   ]
  },
  {
   "cell_type": "markdown",
   "id": "c8d6284e",
   "metadata": {},
   "source": [
    "As we can see, The sample mean is lower than the population mean (100) but the standard deviation is only slightly smaller than the population Standard Deviation (15)."
   ]
  },
  {
   "cell_type": "markdown",
   "id": "9c9859f6",
   "metadata": {},
   "source": [
    "##### <font color=black> 3.3. Test the null hypothesis that the mean IQ score in the community is equal to 100 using the 2-sided 1-sample t-test with a significance level of 0.05. State the value of the test statistic and whether or not you reject the null hypothesis at significance level 0.05.</font>\n"
   ]
  },
  {
   "cell_type": "markdown",
   "id": "997837fd",
   "metadata": {},
   "source": [
    "We can define the null hypothesis as :<br> \\\n",
    "H0 :μ = 100<br> \\\n",
    "H1 :μ ≠ 100<br> \\\n",
    "α = 0.05 (95% of confidence level) \n",
    "\n",
    "We can define the rejection rule as  \\\n",
    "Reject H0 if |t| = |X − 100| / s/√n  __>__  t critical\n",
    "\n",
    "Since degree of freedom (df) = n-1 = 124-1 = 123 and significance level = 0.05, from the t table we find that t critical = 1.984\n",
    "\n",
    "Therefore our, rejection rule is now : \\\n",
    "Reject H0 if |t| = |X − 100| / s/√n  __>__  1.984\n"
   ]
  },
  {
   "cell_type": "code",
   "execution_count": 29,
   "id": "76c1aaff",
   "metadata": {},
   "outputs": [
    {
     "name": "stdout",
     "output_type": "stream",
     "text": [
      "\u001b[1mt statistic =  6.895461964101278\n"
     ]
    }
   ],
   "source": [
    "X = df['IQ'].mean()\n",
    "t = abs(X - 100)/(stat.stdev(df['IQ'])/np.sqrt(124))\n",
    "print('\\033[1m'+'t statistic = ',t)"
   ]
  },
  {
   "cell_type": "markdown",
   "id": "ce9f3aed",
   "metadata": {},
   "source": [
    "As the t statistic is higher than 1.984, using the rejection rule we can __Reject__ the null hypothesis."
   ]
  },
  {
   "cell_type": "markdown",
   "id": "b8b1bd29",
   "metadata": {},
   "source": [
    "##### <font color=black> 3.4. Give the p-value for the test in the previous question. State the interpretation of the p-value.</font>\n"
   ]
  },
  {
   "cell_type": "markdown",
   "id": "ce91c277",
   "metadata": {},
   "source": [
    "For the p-value, we refer to the t table."
   ]
  },
  {
   "cell_type": "markdown",
   "id": "ec45529a",
   "metadata": {},
   "source": [
    "As df is 123, for t = 6.895, __p value is less than 0.001.__<br> \\\n",
    "P value is a quantitative measurement of the evidence against the null hypothesis. <br> \\\n",
    "Since the p value is so small(<0.001) there is significant evidence in support of the Alternative Hypothesis (H1)."
   ]
  },
  {
   "cell_type": "markdown",
   "id": "772df710",
   "metadata": {},
   "source": [
    "##### <font color=black> 3.5. Compute a 95% confidence interval for the mean IQ.  Do the confidence interval and hypothesis test give results that agree or conflict with each other? Explain.</font>\n"
   ]
  },
  {
   "cell_type": "markdown",
   "id": "424b71d7",
   "metadata": {},
   "source": [
    "We can compute a 95% confidence interval as :<br>\n",
    "   ( x̄ - 1.984 * SE, x̄ + 1.984 * SE)"
   ]
  },
  {
   "cell_type": "code",
   "execution_count": 30,
   "id": "79c1c114",
   "metadata": {},
   "outputs": [
    {
     "name": "stdout",
     "output_type": "stream",
     "text": [
      "\u001b[1mConfidence Interval is : (88.514320,93.646971)\n"
     ]
    }
   ],
   "source": [
    "A = X-1.984*stat.stdev(df['IQ']/np.sqrt(124))\n",
    "B = X+1.984*stat.stdev(df['IQ']/np.sqrt(124)) \n",
    "print('\\033[1m'+'Confidence Interval is : (%f,%f)' %(A,B))"
   ]
  },
  {
   "cell_type": "markdown",
   "id": "0a164267",
   "metadata": {},
   "source": [
    "Using the hypothesis we rejected the H0 : μ = 100, We can see that 100 is not in the range of the confidence interval.<br> \\\n",
    "Therefore Confidence Interval and Hypothesis Test __complement__ and support each other."
   ]
  },
  {
   "cell_type": "markdown",
   "id": "18ae7158",
   "metadata": {},
   "source": [
    "##### <font color=black> 3.6.  Repeat the hypothesis test and confidence interval using a significance level of 0.01 and a 99% confidence interval.</font>\n"
   ]
  },
  {
   "cell_type": "markdown",
   "id": "9ff86425",
   "metadata": {},
   "source": [
    "We can define the null hypothesis as :<br> \\\n",
    "H0 :μ = 100<br> \\\n",
    "H1 :μ ≠ 100<br> \\\n",
    "α = 0.01 (99% of confidence level)\n",
    "\n",
    "For a significance level of 0.01, from the t table, we can see that t critical is __2.626__\n",
    "\n",
    "Therefore our, rejection rule is now :<br> \\\n",
    "Reject H0 if |t| = |X − 100| / s/√n  __>__  2.626\n",
    "\n",
    "Our calculated T statistic is 6.895 which is still __higher__ than the t critical. \\\n",
    "Therefore, we __reject__ the Null Hypothesis."
   ]
  },
  {
   "cell_type": "code",
   "execution_count": 32,
   "id": "9d662eab",
   "metadata": {},
   "outputs": [
    {
     "name": "stdout",
     "output_type": "stream",
     "text": [
      "\u001b[1mConfidence Interval is : (87.683886,94.477405)\n"
     ]
    }
   ],
   "source": [
    "A = X-2.626*stat.stdev(df['IQ']/np.sqrt(124))\n",
    "B = X+2.626*stat.stdev(df['IQ']/np.sqrt(124)) \n",
    "print('\\033[1m'+'Confidence Interval is : (%f,%f)' %(A,B))"
   ]
  },
  {
   "cell_type": "markdown",
   "id": "6f93bccd",
   "metadata": {},
   "source": [
    "Clearly, mean = 100 is still not in the range after reducing the significance level. \n",
    "The confidence interval and Hypothesis test both support our argument of rejecting the null hypothesis."
   ]
  }
 ],
 "metadata": {
  "kernelspec": {
   "display_name": "Python 3",
   "language": "python",
   "name": "python3"
  },
  "language_info": {
   "codemirror_mode": {
    "name": "ipython",
    "version": 3
   },
   "file_extension": ".py",
   "mimetype": "text/x-python",
   "name": "python",
   "nbconvert_exporter": "python",
   "pygments_lexer": "ipython3",
   "version": "3.8.8"
  }
 },
 "nbformat": 4,
 "nbformat_minor": 5
}
