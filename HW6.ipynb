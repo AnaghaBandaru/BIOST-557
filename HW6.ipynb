{
 "cells": [
  {
   "cell_type": "markdown",
   "id": "61ab3f9d",
   "metadata": {},
   "source": [
    "# <font color=black>DATA 557 Homework 6</font>\n",
    "***\n"
   ]
  },
  {
   "cell_type": "code",
   "execution_count": 52,
   "id": "e58eb366",
   "metadata": {},
   "outputs": [],
   "source": [
    "import pandas as pd\n",
    "import numpy as np\n",
    "import seaborn as sns\n",
    "from statsmodels.stats.anova import anova_lm\n",
    "from statsmodels.formula.api import ols\n",
    "from statsmodels.stats import anova\n",
    "from scipy import stats\n",
    "import matplotlib.pyplot as plt\n",
    "import statsmodels.api as sm"
   ]
  },
  {
   "cell_type": "code",
   "execution_count": 2,
   "id": "ac7babfe",
   "metadata": {},
   "outputs": [],
   "source": [
    "df_sales = pd.read_csv(\"data/Sales_sample.csv\")"
   ]
  },
  {
   "cell_type": "code",
   "execution_count": 21,
   "id": "e54de70d",
   "metadata": {},
   "outputs": [],
   "source": [
    "pd.set_option('expand_frame_repr', False)\n",
    "sns.set_style(\"darkgrid\")"
   ]
  },
  {
   "cell_type": "markdown",
   "id": "4c380f02",
   "metadata": {},
   "source": [
    "__1. Fit the linear regression model with sale price as response variable and SQFT, LOT_SIZE, BEDS, and \n",
    "BATHS as predictor variables (Model 1 from HW 5). Calculate robust standard errors for the coefficient \n",
    "estimates. Display a table with estimated coefficients, the usual standard errors that assume constant \n",
    "variance, and robust standard errors.__"
   ]
  },
  {
   "cell_type": "code",
   "execution_count": 20,
   "id": "13566b4d",
   "metadata": {
    "scrolled": false
   },
   "outputs": [
    {
     "name": "stdout",
     "output_type": "stream",
     "text": [
      "                    Value     Intercept        SQFT  LOT_SIZE          BEDS          BATHS\n",
      "0   Estimated Coeffcients   5982.604259  224.502066  6.844143 -60884.742104  178177.446061\n",
      "1   Usual Standard Errors  40023.271418   14.793972  1.857731  14461.536156   17107.531726\n",
      "2  Robust Standard Errors  49655.792470   24.394722  7.734398  17255.919552   22796.269233\n"
     ]
    }
   ],
   "source": [
    "full_model = ols('LAST_SALE_PRICE ~ SQFT + LOT_SIZE + BEDS + BATHS', data=df_sales).fit()\n",
    "full_model_robust = ols('LAST_SALE_PRICE ~ SQFT + LOT_SIZE + BEDS + BATHS', data=df_sales).fit(cov_type='HC3')\n",
    "\n",
    "d = [full_model.params.values,full_model.bse.values,full_model_robust.bse.values]\n",
    "df = pd.DataFrame(d,columns=['Intercept','SQFT','LOT_SIZE','BEDS','BATHS'])\n",
    "df['Value'] = ['Estimated Coeffcients','Usual Standard Errors','Robust Standard Errors']\n",
    "df = df[['Value','Intercept','SQFT','LOT_SIZE','BEDS','BATHS']]\n",
    "print(df)"
   ]
  },
  {
   "cell_type": "markdown",
   "id": "2f83060c",
   "metadata": {},
   "source": [
    "__2. Which set of standard errors should be used? Explain by referring to HW 5.__"
   ]
  },
  {
   "cell_type": "markdown",
   "id": "e089d959",
   "metadata": {},
   "source": [
    "In HW5, we discerned that the constant variance error was violated. <br>\n",
    "Since Linear Regression requires homoscedasticity but this is not needed when using robust standard errors for Linear Regression.  <br>\n",
    "Therefore, since Robust Standard Errors accomodates the heteroscedasticity, it is more appropriate for this model."
   ]
  },
  {
   "cell_type": "markdown",
   "id": "1e1401c1",
   "metadata": {},
   "source": [
    "__3. Perform the Wald test for testing that the coefficient of the LOT_SIZE variable is equal to 0. Use the usual \n",
    "standard errors that assume constant variance. Report the test statistic and p-value.__"
   ]
  },
  {
   "cell_type": "markdown",
   "id": "4057c220",
   "metadata": {},
   "source": [
    "The full model : <br>\n",
    "<center> LAST_SALE_PRICE = β<sub>0</sub> + β<sub>1</sub> * SQFT + β<sub>2</sub> * LOT_SIZE + β<sub>3</sub> * BEDS + β<sub>4</sub> * BATHS </center>\n",
    "\n",
    "We can define the null hypothesis as : <br>\n",
    "<center> H0 : β<sub>2</sub> = 0  <br></center>\n",
    "\n",
    "Hence, our reduced model is : <br>\n",
    "<center> LAST_SALE_PRICE = β<sub>0</sub> + β<sub>1</sub> * SQFT + β<sub>3</sub> * BEDS + β<sub>4</sub> * BATHS </center>"
   ]
  },
  {
   "cell_type": "code",
   "execution_count": 10,
   "id": "33df8a30",
   "metadata": {},
   "outputs": [
    {
     "name": "stdout",
     "output_type": "stream",
     "text": [
      "\u001b[1mUsing the F test:\n",
      "F statistic : 13.572897\n",
      "p value : 0.00024184177093033998\n",
      "\u001b[1m\n",
      "\n",
      "Using wald test:\n",
      "wald statistic : 13.572897\n",
      "p value : 0.000242\n"
     ]
    }
   ],
   "source": [
    "red_model = ols('LAST_SALE_PRICE ~ SQFT + BEDS + BATHS', data=df_sales).fit()\n",
    "anovaResults = anova_lm(red_model, full_model)\n",
    "f_statistic = anovaResults.values[1][4]\n",
    "\n",
    "print('\\033[1m'+\"Using the F test:\\nF statistic : %f\"%(f_statistic))\n",
    "p = 1-stats.f.cdf(f_statistic, 1, 995)\n",
    "print(\"p value : \"f'{p:.20f}')\n",
    "\n",
    "waldResults = full_model.wald_test('(LOT_SIZE=0)')\n",
    "print('\\033[1m'+\"\\n\\nUsing wald test:\\nwald statistic : %f\\np value : %f\"%(waldResults.statistic,waldResults.pvalue))"
   ]
  },
  {
   "cell_type": "markdown",
   "id": "40e23166",
   "metadata": {},
   "source": [
    "__4. Perform the robust Wald test statistic for testing that the coefficient of the LOT_SIZE variable is equal to 0. \n",
    "Report the test statistic and p-value.__"
   ]
  },
  {
   "cell_type": "code",
   "execution_count": 14,
   "id": "e7703f9d",
   "metadata": {},
   "outputs": [
    {
     "name": "stdout",
     "output_type": "stream",
     "text": [
      "\u001b[1mWald Test:\n",
      "wald statistic : 0.783042\n",
      "p value : 0.376212\n"
     ]
    }
   ],
   "source": [
    "waldResults = full_model_robust.wald_test('(LOT_SIZE=0)')\n",
    "print('\\033[1m'+\"Wald Test:\\nwald statistic : %f\\np value : %f\"%(waldResults.statistic,waldResults.pvalue))"
   ]
  },
  {
   "cell_type": "markdown",
   "id": "f49911fa",
   "metadata": {},
   "source": [
    "__5. Use the jackknife to estimate the SE for the coefficient of the LOT_SIZE variable. Report the jackknife \n",
    "estimate of the SE.__"
   ]
  },
  {
   "cell_type": "code",
   "execution_count": 22,
   "id": "39a6fa3d",
   "metadata": {},
   "outputs": [
    {
     "name": "stdout",
     "output_type": "stream",
     "text": [
      "\u001b[1mJankknife estimate for Standard Error : 7.726589\n"
     ]
    },
    {
     "data": {
      "image/png": "[encoded data removed]",
      "text/plain": [
       "<Figure size 432x288 with 1 Axes>"
      ]
     },
     "metadata": {},
     "output_type": "display_data"
    }
   ],
   "source": [
    "n = len(df_sales)\n",
    "jack_coeffs = []\n",
    "for i in range(n):\n",
    "    df = df_sales[~(df_sales.index==i)]\n",
    "    full_m = ols('LAST_SALE_PRICE ~ SQFT + LOT_SIZE + BEDS + BATHS', data=df).fit()\n",
    "    jack_coeffs.append(full_m.params['LOT_SIZE'])\n",
    "sns.histplot(jack_coeffs)\n",
    "plt.xlim(6.25,7.5)\n",
    "plt.xlabel(\"jackknife coeffcients\")\n",
    "jack_SE = (n-1) * np.std(jack_coeffs) / n**0.5\n",
    "print('\\033[1m'+\"Jankknife estimate for Standard Error : %f\"%(jack_SE))"
   ]
  },
  {
   "cell_type": "markdown",
   "id": "30ebd4a6",
   "metadata": {},
   "source": [
    "__6. Use the jackknife estimate of the SE to test the null hypothesis that the coefficient of the LOT_SIZE \n",
    "variable is equal to 0. Report the test statistic and p-value.__"
   ]
  },
  {
   "cell_type": "code",
   "execution_count": 56,
   "id": "3ee790b6",
   "metadata": {},
   "outputs": [
    {
     "name": "stdout",
     "output_type": "stream",
     "text": [
      "\u001b[1mTest statistic : 0.885791\n",
      "p value : 0.37594416603280977895\n"
     ]
    }
   ],
   "source": [
    "test_statistic = full_model.params['LOT_SIZE']/jack_SE\n",
    "print('\\033[1m'+\"Test statistic : %f\"%(test_statistic))\n",
    "p = stats.t.sf(abs(test_statistic), df=995)*2\n",
    "print(\"p value : \"f'{p:.20f}')"
   ]
  },
  {
   "cell_type": "markdown",
   "id": "af46054b",
   "metadata": {},
   "source": [
    "__7.Do the tests in Q3, Q4, and Q6 agree? Which of these tests are valid?__"
   ]
  },
  {
   "cell_type": "markdown",
   "id": "48e95a34",
   "metadata": {},
   "source": [
    "Q3 : p valuue using Wald test with regular SE's - 0.000242<br>\n",
    "Q4 : p valuue using Wald test with regular SE's - 0.376212<br>\n",
    "Q7 : p valuue using Wald test with regular SE's - 0.375944<br>\n",
    "\n",
    "We see that the p value is drastically different for Q3 whereas Q4 and Q5 are extremely similar.<br>\n",
    "Under a 0.05 significance level, we would reject the null hypothesis in Q3 but not Q4 or Q5. <br>\n",
    "Since Q3 did not accomodate for the apparent heteroscedasticity in the model. Hence, the statistical inferences from Q4 and Q5 would be more appropriate as both Jackknife and Robust SE's can be used when constant variance assumption is violated."
   ]
  },
  {
   "cell_type": "markdown",
   "id": "022fd20e",
   "metadata": {},
   "source": [
    "__8. Remove the LOT_SIZE variable from Model 1 (call this Model 1A). Fit Model 1A and report the table of \n",
    "coefficients, the usual standard errors that assume constant variance, and robust standard errors.__"
   ]
  },
  {
   "cell_type": "code",
   "execution_count": 31,
   "id": "228d8891",
   "metadata": {},
   "outputs": [
    {
     "name": "stdout",
     "output_type": "stream",
     "text": [
      "                    Value     Intercept        SQFT          BEDS          BATHS\n",
      "0   Estimated Coeffcients  29034.457704  234.041806 -59374.556347  176027.854308\n",
      "1   Usual Standard Errors  39779.873137   14.657241  14546.679416   17205.155129\n",
      "2  Robust Standard Errors  43389.508486   27.365704  16282.834910   22791.626582\n"
     ]
    }
   ],
   "source": [
    "model_1a_robust = ols('LAST_SALE_PRICE ~ SQFT + BEDS + BATHS', data=df_sales).fit(cov_type='HC3')\n",
    "model_1a = ols('LAST_SALE_PRICE ~ SQFT + BEDS + BATHS', data=df_sales).fit()\n",
    "\n",
    "d = [model_1a.params.values,model_1a.bse.values,model_1a_robust.bse.values]\n",
    "df = pd.DataFrame(d,columns=['Intercept','SQFT','BEDS','BATHS'])\n",
    "df['Value'] = ['Estimated Coeffcients','Usual Standard Errors','Robust Standard Errors']\n",
    "df = df[['Value','Intercept','SQFT','BEDS','BATHS']]\n",
    "print(df)"
   ]
  },
  {
   "cell_type": "markdown",
   "id": "bb09af06",
   "metadata": {},
   "source": [
    "__9. Add the square of the LOT_SIZE variable to Model 1 (call this Model 1B). Fit Model 1B and report the \n",
    "table of coefficients, the usual standard errors that assume constant variance, and robust standard errors.__"
   ]
  },
  {
   "cell_type": "code",
   "execution_count": 30,
   "id": "ecb6ecf0",
   "metadata": {},
   "outputs": [
    {
     "name": "stdout",
     "output_type": "stream",
     "text": [
      "                    Value     Intercept        SQFT   LOT_SIZE  LOT_SIZE^2          BEDS          BATHS\n",
      "0   Estimated Coeffcients  98703.527600  228.141375 -17.040539    0.000467 -48502.615655  168809.711947\n",
      "1   Usual Standard Errors  41352.692737   14.467833   3.904434    0.000068  14246.499063   16774.174327\n",
      "2  Robust Standard Errors  69639.758566   24.665583  11.141494    0.000326  15612.725844   24697.178819\n"
     ]
    }
   ],
   "source": [
    "model_1b_robust = ols('LAST_SALE_PRICE ~ SQFT + LOT_SIZE + np.power(LOT_SIZE, 2) + BEDS + BATHS', data=df_sales).fit(cov_type='HC3')\n",
    "model_1b = ols('LAST_SALE_PRICE ~ SQFT + LOT_SIZE + np.power(LOT_SIZE, 2) + BEDS + BATHS', data=df_sales).fit()\n",
    "\n",
    "d = [model_1b.params.values,model_1b.bse.values,model_1b_robust.bse.values]\n",
    "df = pd.DataFrame(d,columns=['Intercept','SQFT','LOT_SIZE','LOT_SIZE^2','BEDS','BATHS'])\n",
    "df['Value'] = ['Estimated Coeffcients','Usual Standard Errors','Robust Standard Errors']\n",
    "df = df[['Value','Intercept','SQFT','LOT_SIZE','LOT_SIZE^2','BEDS','BATHS']]\n",
    "print(df)"
   ]
  },
  {
   "cell_type": "markdown",
   "id": "8f762360",
   "metadata": {},
   "source": [
    "__10. Perform the F test to compare Model 1A and Model 1B. Report the p-value.__"
   ]
  },
  {
   "cell_type": "code",
   "execution_count": 60,
   "id": "2d6d7dd7",
   "metadata": {},
   "outputs": [
    {
     "name": "stdout",
     "output_type": "stream",
     "text": [
      "\u001b[1mF statistic : 30.978052\n",
      "p value : 0.00000000000008892886\n"
     ]
    }
   ],
   "source": [
    "anovaResults = anova_lm(model_1a, model_1b)\n",
    "f_statistic = anovaResults.values[1][4]\n",
    "print('\\033[1m'+\"F statistic : %f\"%(f_statistic))\n",
    "p = 1-stats.f.cdf(f_statistic, 2, 994)\n",
    "print(\"p value : \"f'{p:.20f}')"
   ]
  },
  {
   "cell_type": "markdown",
   "id": "ad5a553a",
   "metadata": {},
   "source": [
    "__11. State the null hypothesis being tested in Q10 either in words or by using model formulas.__"
   ]
  },
  {
   "cell_type": "markdown",
   "id": "0ea9a779",
   "metadata": {},
   "source": [
    "The full model (Model 1B) : <br>\n",
    "<center> LAST_SALE_PRICE = β<sub>0</sub> + β<sub>1</sub> * SQFT + β<sub>2</sub> * LOT_SIZE + β<sub>3</sub> * LOT_SIZE^2 + β<sub>4</sub> * BEDS + β<sub>5</sub> * BATHS </center>\n",
    "\n",
    "We can define the null hypothesis as : <br>\n",
    "<center> H0 : β<sub>2</sub> = β<sub>3</sub> = 0  <br></center>\n",
    "\n",
    "Hence, our reduced model is (Model 1A) : <br>\n",
    "<center> LAST_SALE_PRICE = β<sub>0</sub> + β<sub>1</sub> * SQFT + β<sub>3</sub> * BEDS + β<sub>4</sub> * BATHS </center>"
   ]
  },
  {
   "cell_type": "markdown",
   "id": "e37e7c54",
   "metadata": {},
   "source": [
    "__12. Perform the robust Wald test to compare Model 1A and Model 1B. Report the p-value.__"
   ]
  },
  {
   "cell_type": "code",
   "execution_count": 62,
   "id": "c7931c83",
   "metadata": {},
   "outputs": [
    {
     "name": "stdout",
     "output_type": "stream",
     "text": [
      "\u001b[1mRobust Wald Test:\n",
      "wald statistic : [[2.33967489]]\n",
      "p value : 0.31041739721360595\n"
     ]
    }
   ],
   "source": [
    "waldResults = model_1b_robust.wald_test('(LOT_SIZE=0,np.power(LOT_SIZE, 2)=0 )')\n",
    "print('\\033[1m'+\"Robust Wald Test:\\nwald statistic : {}\\np value : {}\".format(waldResults.statistic,waldResults.pvalue))"
   ]
  },
  {
   "cell_type": "markdown",
   "id": "9c8f907c",
   "metadata": {},
   "source": [
    "__13. Compare the results of the tests in Q10 and Q12. Which test is valid?__"
   ]
  },
  {
   "cell_type": "code",
   "execution_count": 64,
   "id": "501b06ce",
   "metadata": {},
   "outputs": [
    {
     "data": {
      "text/plain": [
       "Text(0, 0.5, 'Residuals')"
      ]
     },
     "execution_count": 64,
     "metadata": {},
     "output_type": "execute_result"
    },
    {
     "data": {
      "image/png": "[encoded data removed]",
      "text/plain": [
       "<Figure size 432x288 with 1 Axes>"
      ]
     },
     "metadata": {},
     "output_type": "display_data"
    }
   ],
   "source": [
    "plt.scatter(x=model_1b.fittedvalues, y = model_1b.resid)\n",
    "plt.xlabel(\"fitted values\")\n",
    "plt.ylabel(\"Residuals\")"
   ]
  },
  {
   "cell_type": "markdown",
   "id": "a075b70c",
   "metadata": {},
   "source": [
    "Q10 : p value from F test - 0.00000000000008892886 <br>\n",
    "Q12 : p value from robust Wald Test - 0.3104 <br>\n",
    "\n",
    "These p values are extremely different, assuming a 0.05 significance level <br>\n",
    "We would reject the null hypothesis in Q10 but we do not have enough evidece to do so in Q12. Since there is a presence of heteroscedasticity in the model, Q12 would be more appropriate to make statistical inferences."
   ]
  },
  {
   "cell_type": "markdown",
   "id": "0ef9fd95",
   "metadata": {},
   "source": [
    "__The following questions use the LOG_PRICE variable as in HW 5. Fit models corresponding to Model 1A and \n",
    "Model 1B with LOG_PRICE as the response variable. Call these models Model 1A_Log and Model 1B_Log.__"
   ]
  },
  {
   "cell_type": "code",
   "execution_count": 46,
   "id": "5e928be5",
   "metadata": {},
   "outputs": [],
   "source": [
    "df_sales['LOG_PRICE'] = np.log10(df_sales['LAST_SALE_PRICE'])"
   ]
  },
  {
   "cell_type": "markdown",
   "id": "c9454df0",
   "metadata": {},
   "source": [
    "__14. Perform the F test to compare Model 1A_Log and Model 1B_Log. Report the p-value.__"
   ]
  },
  {
   "cell_type": "code",
   "execution_count": 47,
   "id": "d5c93705",
   "metadata": {},
   "outputs": [
    {
     "name": "stdout",
     "output_type": "stream",
     "text": [
      "\u001b[1mF statistic : 27.617701\n",
      "p value : 0.00000000000212418971\n"
     ]
    }
   ],
   "source": [
    "full_model1a_log = ols('LOG_PRICE ~ SQFT + BEDS + BATHS', data=df_sales).fit()\n",
    "full_model1b_log = ols('LOG_PRICE ~ SQFT + LOT_SIZE + np.power(LOT_SIZE, 2) + BEDS + BATHS', data=df_sales).fit()\n",
    "anovaResults = anova_lm(full_model1a_log, full_model1b_log)\n",
    "f_statistic = anovaResults.values[1][4]\n",
    "print('\\033[1m'+\"F statistic : %f\"%(f_statistic))\n",
    "p = 1-stats.f.cdf(f_statistic, 2, 994)\n",
    "print(\"p value : \"f'{p:.20f}')"
   ]
  },
  {
   "cell_type": "markdown",
   "id": "5b319d53",
   "metadata": {},
   "source": [
    "__15. State the null hypothesis being tested in Q14 either in words or by using model formulas.__"
   ]
  },
  {
   "cell_type": "markdown",
   "id": "72bf9e87",
   "metadata": {},
   "source": [
    "The full model (Model 1B_Log) : <br>\n",
    "<center> LOG<sub>10</sub>(LAST_SALE_PRICE) = β<sub>0</sub> + β<sub>1</sub> * SQFT + β<sub>2</sub> * LOT_SIZE + β<sub>3</sub> * LOT_SIZE^2 + β<sub>4</sub> * BEDS + β<sub>5</sub> * BATHS </center>\n",
    "\n",
    "We can define the null hypothesis as : <br>\n",
    "<center> H0 : β<sub>2</sub> = β<sub>3</sub> = 0  <br></center>\n",
    "\n",
    "Hence, our reduced model is (Model 1A_log) : <br>\n",
    "<center> LOG<sub>10</sub>(LAST_SALE_PRICE) = β<sub>0</sub> + β<sub>1</sub> * SQFT + β<sub>3</sub> * BEDS + β<sub>4</sub> * BATHS </center>"
   ]
  },
  {
   "cell_type": "markdown",
   "id": "9adfa6a0",
   "metadata": {},
   "source": [
    "__16. Perform the robust Wald test to compare Model 1A_Log and Model 1B_Log. Report the p-value.__"
   ]
  },
  {
   "cell_type": "code",
   "execution_count": 50,
   "id": "ba7a8f2e",
   "metadata": {},
   "outputs": [
    {
     "name": "stdout",
     "output_type": "stream",
     "text": [
      "\u001b[1mWald Test:\n",
      "wald statistic : [[44.08152396]]\n",
      "p value : 2.68e-10\n"
     ]
    }
   ],
   "source": [
    "full_model1b_log_robust = ols('LOG_PRICE ~ SQFT + LOT_SIZE + np.power(LOT_SIZE, 2) + BEDS + BATHS', data=df_sales).fit(cov_type='HC3')\n",
    "waldResults = full_model1b_log_robust.wald_test('(LOT_SIZE=0,np.power(LOT_SIZE, 2)=0 )')\n",
    "\n",
    "scientific_notation = \"{:.2e}\".format(waldResults.pvalue)\n",
    "print('\\033[1m'+\"Wald Test:\\nwald statistic : {}\\np value : {}\".format(waldResults.statistic,scientific_notation))\n"
   ]
  },
  {
   "cell_type": "markdown",
   "id": "62f2d77b",
   "metadata": {},
   "source": [
    "__17. Compare the results of the tests in Q14 and Q16. Do they give the same conclusion?__"
   ]
  },
  {
   "cell_type": "code",
   "execution_count": 65,
   "id": "5d8ba6ff",
   "metadata": {},
   "outputs": [
    {
     "data": {
      "text/plain": [
       "Text(0, 0.5, 'Residuals')"
      ]
     },
     "execution_count": 65,
     "metadata": {},
     "output_type": "execute_result"
    },
    {
     "data": {
      "image/png": "[encoded data removed]",
      "text/plain": [
       "<Figure size 432x288 with 1 Axes>"
      ]
     },
     "metadata": {},
     "output_type": "display_data"
    }
   ],
   "source": [
    "plt.scatter(x=full_model1b_log.fittedvalues, y = full_model1b_log.resid)\n",
    "plt.xlabel(\"fitted values\")\n",
    "plt.ylabel(\"Residuals\")"
   ]
  },
  {
   "cell_type": "markdown",
   "id": "be288822",
   "metadata": {},
   "source": [
    "Q14 : p value from F test - 2.12e-12<br>\n",
    "Q15 : p value from robust wald test - 2.68e-10<br>\n",
    "\n",
    "These p values are similar and we would reach the same conclusion at a 0.05 significance level to reject the null hypothesis. "
   ]
  },
  {
   "cell_type": "markdown",
   "id": "ef7ec3b4",
   "metadata": {},
   "source": [
    "__18. Based on all of the analyses performed, answer the following question. Is there evidence for an \n",
    "association between the size of the lot and sales price? Explain.__"
   ]
  },
  {
   "cell_type": "markdown",
   "id": "84ccf8e9",
   "metadata": {},
   "source": [
    "In this assignment, we looked at the linear, quadratic relationship of LOT_SIZE with the regular and log values of sale price. <br>\n",
    "We used robust SE's and jackknife to account for heteroscedasticity that was present in the model so we can make valid statistical inferences. <br>\n",
    "Therefore, after accounting for the heteroscedasticity and taking log for sale price we see that __there is not enough evidence to reject the null hypothesis, indicating that there is an association between LOT_SIZE and LAST_SALE_PRICE.__ "
   ]
  }
 ],
 "metadata": {
  "kernelspec": {
   "display_name": "Python 3.8.9 64-bit",
   "language": "python",
   "name": "python3"
  },
  "language_info": {
   "codemirror_mode": {
    "name": "ipython",
    "version": 3
   },
   "file_extension": ".py",
   "mimetype": "text/x-python",
   "name": "python",
   "nbconvert_exporter": "python",
   "pygments_lexer": "ipython3",
   "version": "3.8.9"
  },
  "vscode": {
   "interpreter": {
    "hash": "31f2aee4e71d21fbe5cf8b01ff0e069b9275f58929596ceb00d14d90e3e16cd6"
   }
  }
 },
 "nbformat": 4,
 "nbformat_minor": 5
}
