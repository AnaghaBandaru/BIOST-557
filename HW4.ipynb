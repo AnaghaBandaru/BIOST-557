{
 "cells": [
  {
   "cell_type": "markdown",
   "id": "64c9dafa",
   "metadata": {},
   "source": [
    "# <font color=black>DATA 557 Homework 4</font>\n",
    "***\n",
    "### <font color=black>Question \n",
    "The data consist of sales prices for a sample of homes from a US city and some features of the houses. <br>\n",
    "Variables:<br>\n",
    "            LAST_SALE_PRICE &emsp; : &emsp;the sale price of the home <br>\n",
    "            SQFT     &emsp;   : &emsp;area of the house (sq. ft.)<br>\n",
    "            LOT_SIZE  &emsp;    : &emsp;area of the lot (sq. ft.)<br>\n",
    "            BEDS       &emsp;  : &emsp;number of bedrooms<br>\n",
    "            BATHS       &emsp;  : &emsp;number of bathrooms<br>\n",
    "</font>"
   ]
  },
  {
   "cell_type": "code",
   "execution_count": 2,
   "id": "129859f2",
   "metadata": {},
   "outputs": [],
   "source": [
    "import pandas as pd\n",
    "import numpy as np\n",
    "import seaborn as sns\n",
    "from statsmodels.stats.anova import anova_lm\n",
    "from statsmodels.formula.api import ols\n",
    "from statsmodels.stats import anova\n",
    "from scipy import stats"
   ]
  },
  {
   "cell_type": "code",
   "execution_count": 3,
   "id": "6ece8114",
   "metadata": {},
   "outputs": [],
   "source": [
    "df_sales = pd.read_csv(\"data/Sales.csv\")"
   ]
  },
  {
   "cell_type": "markdown",
   "id": "16c298a3",
   "metadata": {},
   "source": [
    "__1. Calculate all pairwise correlations between all five variables.__ "
   ]
  },
  {
   "cell_type": "code",
   "execution_count": 4,
   "id": "79f5e022",
   "metadata": {
    "scrolled": true
   },
   "outputs": [
    {
     "data": {
      "text/html": [
       "<div>\n",
       "<style scoped>\n",
       "    .dataframe tbody tr th:only-of-type {\n",
       "        vertical-align: middle;\n",
       "    }\n",
       "\n",
       "    .dataframe tbody tr th {\n",
       "        vertical-align: top;\n",
       "    }\n",
       "\n",
       "    .dataframe thead th {\n",
       "        text-align: right;\n",
       "    }\n",
       "</style>\n",
       "<table border=\"1\" class=\"dataframe\">\n",
       "  <thead>\n",
       "    <tr style=\"text-align: right;\">\n",
       "      <th></th>\n",
       "      <th>LAST_SALE_PRICE</th>\n",
       "      <th>SQFT</th>\n",
       "      <th>LOT_SIZE</th>\n",
       "      <th>BEDS</th>\n",
       "      <th>BATHS</th>\n",
       "    </tr>\n",
       "  </thead>\n",
       "  <tbody>\n",
       "    <tr>\n",
       "      <th>LAST_SALE_PRICE</th>\n",
       "      <td>1.000000</td>\n",
       "      <td>0.724113</td>\n",
       "      <td>0.133390</td>\n",
       "      <td>0.372184</td>\n",
       "      <td>0.580820</td>\n",
       "    </tr>\n",
       "    <tr>\n",
       "      <th>SQFT</th>\n",
       "      <td>0.724113</td>\n",
       "      <td>1.000000</td>\n",
       "      <td>0.221454</td>\n",
       "      <td>0.635394</td>\n",
       "      <td>0.752309</td>\n",
       "    </tr>\n",
       "    <tr>\n",
       "      <th>LOT_SIZE</th>\n",
       "      <td>0.133390</td>\n",
       "      <td>0.221454</td>\n",
       "      <td>1.000000</td>\n",
       "      <td>0.165247</td>\n",
       "      <td>0.137365</td>\n",
       "    </tr>\n",
       "    <tr>\n",
       "      <th>BEDS</th>\n",
       "      <td>0.372184</td>\n",
       "      <td>0.635394</td>\n",
       "      <td>0.165247</td>\n",
       "      <td>1.000000</td>\n",
       "      <td>0.609627</td>\n",
       "    </tr>\n",
       "    <tr>\n",
       "      <th>BATHS</th>\n",
       "      <td>0.580820</td>\n",
       "      <td>0.752309</td>\n",
       "      <td>0.137365</td>\n",
       "      <td>0.609627</td>\n",
       "      <td>1.000000</td>\n",
       "    </tr>\n",
       "  </tbody>\n",
       "</table>\n",
       "</div>"
      ],
      "text/plain": [
       "                 LAST_SALE_PRICE      SQFT  LOT_SIZE      BEDS     BATHS\n",
       "LAST_SALE_PRICE         1.000000  0.724113  0.133390  0.372184  0.580820\n",
       "SQFT                    0.724113  1.000000  0.221454  0.635394  0.752309\n",
       "LOT_SIZE                0.133390  0.221454  1.000000  0.165247  0.137365\n",
       "BEDS                    0.372184  0.635394  0.165247  1.000000  0.609627\n",
       "BATHS                   0.580820  0.752309  0.137365  0.609627  1.000000"
      ]
     },
     "execution_count": 4,
     "metadata": {},
     "output_type": "execute_result"
    }
   ],
   "source": [
    "df_sales.corr(method='pearson', min_periods=1)"
   ]
  },
  {
   "cell_type": "code",
   "execution_count": 5,
   "id": "db8d8a6b",
   "metadata": {},
   "outputs": [
    {
     "name": "stdout",
     "output_type": "stream",
     "text": [
      "LAST_SALE_PRICE , SQFT : 0.724113\n",
      "LAST_SALE_PRICE , LOT_SIZE : 0.133390\n",
      "LAST_SALE_PRICE , BEDS : 0.372184\n",
      "LAST_SALE_PRICE , BATHS : 0.580820\n",
      "SQFT , LOT_SIZE : 0.221454\n",
      "SQFT , BEDS : 0.635394\n",
      "SQFT , BATHS : 0.752309\n",
      "LOT_SIZE , BEDS : 0.165247\n",
      "LOT_SIZE , BATHS : 0.137365\n",
      "BEDS , BATHS : 0.609627\n"
     ]
    }
   ],
   "source": [
    "def corr(df_sales,pair):\n",
    "    denomX = 0\n",
    "    denomY = 0\n",
    "    num = 0\n",
    "    df = df_sales[df_sales[pair[0]].notna() & df_sales[pair[1]].notna()]\n",
    "    for i in range(len(df)):\n",
    "            num = num + ((df.iloc[i][pair[0]]-df[pair[0]].mean())*(df.iloc[i][pair[1]]-df[pair[1]].mean()))\n",
    "            denomX = denomX + ((df.iloc[i][pair[0]]-df[pair[0]].mean())**2)\n",
    "            denomY = denomY + ((df.iloc[i][pair[1]]-df[pair[1]].mean())**2)\n",
    "    r = num/((denomX*denomY)**0.5)\n",
    "    print(\"%s , %s : %f\" %(pair[0],pair[1],r))\n",
    "\n",
    "                                             \n",
    "for i in range(len(list(df_sales.columns))):\n",
    "    for j in range(i+1,5):\n",
    "        corr(df_sales,[df_sales.columns[i],df_sales.columns[j]])\n",
    "\n"
   ]
  },
  {
   "cell_type": "markdown",
   "id": "e01079c5",
   "metadata": {},
   "source": [
    "For the rest of the HW, I removed the null values from 3 columns : SQFT, LAST_SALE_PRICE and LOT_SIZE as these are the only columns we work with."
   ]
  },
  {
   "cell_type": "code",
   "execution_count": 6,
   "id": "610cc954",
   "metadata": {},
   "outputs": [],
   "source": [
    "df = df_sales[df_sales['LAST_SALE_PRICE'].notna() & df_sales['SQFT'].notna() & df_sales['LOT_SIZE'].notna()]"
   ]
  },
  {
   "cell_type": "markdown",
   "id": "1361857e",
   "metadata": {},
   "source": [
    "__2.  Make a  scatterplot of the sale price versus the area of the house. Describe the association \n",
    "between these two variables.__"
   ]
  },
  {
   "cell_type": "code",
   "execution_count": 7,
   "id": "5784502f",
   "metadata": {},
   "outputs": [
    {
     "data": {
      "image/png": "[encoded data removed]",
      "text/plain": [
       "<Figure size 432x288 with 1 Axes>"
      ]
     },
     "metadata": {
      "needs_background": "light"
     },
     "output_type": "display_data"
    }
   ],
   "source": [
    "splot = sns.scatterplot(data = df_sales, x = \"LAST_SALE_PRICE\", y = \"SQFT\")"
   ]
  },
  {
   "cell_type": "code",
   "execution_count": 8,
   "id": "07823592",
   "metadata": {},
   "outputs": [
    {
     "data": {
      "text/plain": [
       "[None]"
      ]
     },
     "execution_count": 8,
     "metadata": {},
     "output_type": "execute_result"
    },
    {
     "data": {
      "image/png": "[encoded data removed]",
      "text/plain": [
       "<Figure size 432x288 with 1 Axes>"
      ]
     },
     "metadata": {
      "needs_background": "light"
     },
     "output_type": "display_data"
    }
   ],
   "source": [
    "splot = sns.scatterplot(data = df_sales, x = \"LAST_SALE_PRICE\", y = \"SQFT\")\n",
    "splot.set(yscale = 'log')\n",
    "splot.set(xscale = 'log')"
   ]
  },
  {
   "cell_type": "markdown",
   "id": "3c9c3926",
   "metadata": {},
   "source": [
    "From the above graphs, we can see that SQFT and LAST_SALE_PRICE have an __approximately linear relationship__. Though there are outliers, as SQFT increases, so does LAST_SALE_PRICE."
   ]
  },
  {
   "cell_type": "markdown",
   "id": "d66ef24e",
   "metadata": {},
   "source": [
    "__3. Fit a simple linear regression model (Model 1) with sale price as response variable and area of \n",
    "the house (SQFT) as predictor variable. State the estimated value of the intercept and the \n",
    "estimated coefficient for the area variable.__"
   ]
  },
  {
   "cell_type": "code",
   "execution_count": 9,
   "id": "c3aea091",
   "metadata": {},
   "outputs": [
    {
     "name": "stdout",
     "output_type": "stream",
     "text": [
      "                            OLS Regression Results                            \n",
      "==============================================================================\n",
      "Dep. Variable:        LAST_SALE_PRICE   R-squared:                       0.549\n",
      "Model:                            OLS   Adj. R-squared:                  0.549\n",
      "Method:                 Least Squares   F-statistic:                     4969.\n",
      "Date:                Thu, 03 Mar 2022   Prob (F-statistic):               0.00\n",
      "Time:                        17:24:10   Log-Likelihood:                -57353.\n",
      "No. Observations:                4078   AIC:                         1.147e+05\n",
      "Df Residuals:                    4076   BIC:                         1.147e+05\n",
      "Df Model:                           1                                         \n",
      "Covariance Type:            nonrobust                                         \n",
      "==============================================================================\n",
      "                 coef    std err          t      P>|t|      [0.025      0.975]\n",
      "------------------------------------------------------------------------------\n",
      "Intercept   -4.96e+04   1.22e+04     -4.054      0.000   -7.36e+04   -2.56e+04\n",
      "SQFT         351.7581      4.990     70.494      0.000     341.975     361.541\n",
      "==============================================================================\n",
      "Omnibus:                     1913.969   Durbin-Watson:                   1.451\n",
      "Prob(Omnibus):                  0.000   Jarque-Bera (JB):            44459.744\n",
      "Skew:                           1.709   Prob(JB):                         0.00\n",
      "Kurtosis:                      18.811   Cond. No.                     6.17e+03\n",
      "==============================================================================\n",
      "\n",
      "Notes:\n",
      "[1] Standard Errors assume that the covariance matrix of the errors is correctly specified.\n",
      "[2] The condition number is large, 6.17e+03. This might indicate that there are\n",
      "strong multicollinearity or other numerical problems.\n"
     ]
    }
   ],
   "source": [
    "model1 = ols('LAST_SALE_PRICE ~ SQFT', data=df).fit()\n",
    "print(model1.summary())"
   ]
  },
  {
   "cell_type": "code",
   "execution_count": 10,
   "id": "cb5f0d66",
   "metadata": {},
   "outputs": [
    {
     "name": "stdout",
     "output_type": "stream",
     "text": [
      "\u001b[1mIntercept : -49597.088022\n",
      "Coeffcient of SQFT : 351.758100\n"
     ]
    }
   ],
   "source": [
    "print('\\033[1m'+\"Intercept : %f\\nCoeffcient of SQFT : %f\" %(model1.params[0],model1.params[1]))"
   ]
  },
  {
   "cell_type": "markdown",
   "id": "7a2387c1",
   "metadata": {},
   "source": [
    "__4. Write the equation that describes the relationship between the mean sale price and SQFT.__"
   ]
  },
  {
   "cell_type": "markdown",
   "id": "469fdf0e",
   "metadata": {},
   "source": [
    "Linear regression is based on the following underlying statistical model : <br>\n",
    "Y = α + βx <br>\n",
    "where, <br>\n",
    "α is the intercept <br>\n",
    "β is the regression coefficient for X <br>\n",
    "Here our dependent variable Y is Sale Price and the independent variable X is SQFT. So, <br>\n",
    "Sale Price = intercept + coeff * Area <br>\n",
    "<center>LAST_SALE_PRICE = -49597.088 + 351.758 * SQFT"
   ]
  },
  {
   "cell_type": "markdown",
   "id": "3d965568",
   "metadata": {},
   "source": [
    "__5. State the interpretation in words of the estimated intercept.__"
   ]
  },
  {
   "cell_type": "markdown",
   "id": "6b82791b",
   "metadata": {},
   "source": [
    "The interpretation of α is the mean of Y given X = 0, i.e., <br>\n",
    "E(Y |X = 0) = α + β ×0 = α. This is the point where the regression line crosses the y-axis. <br>\n",
    "\n",
    "__α = -49597.088 is the estimated mean sale price if area is set to 0.__"
   ]
  },
  {
   "cell_type": "markdown",
   "id": "6e76bd8d",
   "metadata": {},
   "source": [
    "__6. State the interpretation in words of the estimated coefficient for the area variable.__"
   ]
  },
  {
   "cell_type": "markdown",
   "id": "5a5688f8",
   "metadata": {},
   "source": [
    "__The interpretation of the coeffcient is the average difference in the mean of Sale price per unit\n",
    "difference in Area of the house.__<br>\n",
    "β is the slope of the regression line."
   ]
  },
  {
   "cell_type": "markdown",
   "id": "cd244e99",
   "metadata": {},
   "source": [
    "__7. Add the LOT_SIZE variable to the linear regression model (Model 2). How did the estimated \n",
    "coefficient for the SQFT variable change?__"
   ]
  },
  {
   "cell_type": "code",
   "execution_count": 11,
   "id": "cef0e7e4",
   "metadata": {},
   "outputs": [
    {
     "name": "stdout",
     "output_type": "stream",
     "text": [
      "                            OLS Regression Results                            \n",
      "==============================================================================\n",
      "Dep. Variable:        LAST_SALE_PRICE   R-squared:                       0.551\n",
      "Model:                            OLS   Adj. R-squared:                  0.551\n",
      "Method:                 Least Squares   F-statistic:                     2502.\n",
      "Date:                Thu, 03 Mar 2022   Prob (F-statistic):               0.00\n",
      "Time:                        17:24:10   Log-Likelihood:                -57345.\n",
      "No. Observations:                4078   AIC:                         1.147e+05\n",
      "Df Residuals:                    4075   BIC:                         1.147e+05\n",
      "Df Model:                           2                                         \n",
      "Covariance Type:            nonrobust                                         \n",
      "==============================================================================\n",
      "                 coef    std err          t      P>|t|      [0.025      0.975]\n",
      "------------------------------------------------------------------------------\n",
      "Intercept  -3.439e+04   1.28e+04     -2.689      0.007   -5.95e+04   -9319.087\n",
      "SQFT         356.6154      5.126     69.574      0.000     346.566     366.665\n",
      "LOT_SIZE      -4.0084      0.999     -4.012      0.000      -5.967      -2.050\n",
      "==============================================================================\n",
      "Omnibus:                     2074.979   Durbin-Watson:                   1.483\n",
      "Prob(Omnibus):                  0.000   Jarque-Bera (JB):            54805.812\n",
      "Skew:                           1.875   Prob(JB):                         0.00\n",
      "Kurtosis:                      20.564   Cond. No.                     2.23e+04\n",
      "==============================================================================\n",
      "\n",
      "Notes:\n",
      "[1] Standard Errors assume that the covariance matrix of the errors is correctly specified.\n",
      "[2] The condition number is large, 2.23e+04. This might indicate that there are\n",
      "strong multicollinearity or other numerical problems.\n"
     ]
    }
   ],
   "source": [
    "model2 = ols('LAST_SALE_PRICE ~ SQFT + LOT_SIZE', data=df).fit()\n",
    "print(model2.summary())"
   ]
  },
  {
   "cell_type": "markdown",
   "id": "c497e72d",
   "metadata": {},
   "source": [
    "The magnitude of estimated coeffcient for SQFT is slightly larger. 351.758 to 356.6154 <br>\n",
    "This hints that there is no strong relationship between SQFT and LOT_SIZE"
   ]
  },
  {
   "cell_type": "markdown",
   "id": "f5a79a48",
   "metadata": {},
   "source": [
    "__8. State the interpretation of the coefficient of SQFT in Model 2.__"
   ]
  },
  {
   "cell_type": "markdown",
   "id": "4b1b7ad9",
   "metadata": {},
   "source": [
    "__In the second model the coefficient of ‘SQFT’ is interpreted as the average difference in sale price for a unit change in area of a specific lot size. <br>__\n",
    "\n",
    "Because the estimated coeffcients did not change extremely for both the models, LOT_SIZE does not have a confounding effect on the model. This is also corroborated by the correlation coeffcient from Q1, which was a relatively low value of 0.221 for LOT_SIZE and SQFT."
   ]
  },
  {
   "cell_type": "markdown",
   "id": "4185ef38",
   "metadata": {},
   "source": [
    "__9. Report the R-squared values from the two models. Explain why they are different.__"
   ]
  },
  {
   "cell_type": "code",
   "execution_count": 12,
   "id": "749c9587",
   "metadata": {},
   "outputs": [
    {
     "name": "stdout",
     "output_type": "stream",
     "text": [
      "\u001b[1mModel 1 R squared Value : 0.549386\n",
      "Model 2 R squared Value : 0.551159\n"
     ]
    }
   ],
   "source": [
    "print('\\033[1m'+\"Model 1 R squared Value : %f\\nModel 2 R squared Value : %f\" %(model1.rsquared,model2.rsquared))"
   ]
  },
  {
   "cell_type": "markdown",
   "id": "7cc514a6",
   "metadata": {},
   "source": [
    "For a Simple Linear Regression model, R squared value is the square of the correlation coeffcient and it describes how much variation in sale price is explained by the model.<br>\n",
    "For the second model, with 2 predictor variables, R squared value is the correlation between the observed values and the fitted values also including the percentage of variance explained by the model.<br>\n",
    "So the variation in sale price is described by both SQFT and LOT_SIZE."
   ]
  },
  {
   "cell_type": "markdown",
   "id": "ca59bbf3",
   "metadata": {},
   "source": [
    "__10. Report the estimates of the error variances from the two models. Explain why they are \n",
    "different.__"
   ]
  },
  {
   "cell_type": "code",
   "execution_count": 13,
   "id": "15c9969b",
   "metadata": {},
   "outputs": [
    {
     "name": "stdout",
     "output_type": "stream",
     "text": [
      "\u001b[1mModel 1 Error Variance : 96282502456.679489\n",
      "Model 2 Error Variance : 95927158154.606934\n"
     ]
    }
   ],
   "source": [
    "print('\\033[1m'+\"Model 1 Error Variance : %f\\nModel 2 Error Variance : %f\" %(np.sum(model1.resid**2)/model1.df_resid,np.sum(model2.resid**2)/model2.df_resid))"
   ]
  },
  {
   "cell_type": "markdown",
   "id": "8c44bd50",
   "metadata": {},
   "source": [
    "Error Variance describes the variation in the measurments of both response and predictor variables. <br>\n",
    "The Error Variance in Model 2 is less than Model 1, which makes sense and including a second predictor variable better explained the response."
   ]
  },
  {
   "cell_type": "markdown",
   "id": "e3427a14",
   "metadata": {},
   "source": [
    "__11. State the interpretation of the estimated error variance for Model 2.__"
   ]
  },
  {
   "cell_type": "markdown",
   "id": "39693810",
   "metadata": {},
   "source": [
    "The error variance is estimated using the sum of squares of residuals -<br>\n",
    "error variance = sum of squares of residuals / n-p ,<br> where n is sample size and p is number of predictor variables.<br><br>\n",
    "Error variance is the statistical variability of scores caused by the influence of variables other than the independent variables. <br>\n",
    "So here it represents the variance we can expect in sale price without the influence of are and lot size"
   ]
  },
  {
   "cell_type": "markdown",
   "id": "b09c0146",
   "metadata": {},
   "source": [
    "__12. Test the null hypothesis that the coefficient of the SQFT variable in Model 2 is equal to 0. \n",
    "(Assume that the assumptions required for the test are met.)__"
   ]
  },
  {
   "cell_type": "markdown",
   "id": "edf61b56",
   "metadata": {},
   "source": [
    "The full model : <br>\n",
    "<center> Y = β<sub>0</sub> + β<sub>1</sub> * SQFT + β<sub>2</sub> * LOT_SIZE </center>\n",
    "\n",
    "We can define the null hypothesis as : <br>\n",
    "<center> H0 : β<sub>1</sub> = 0  <br></center>\n",
    "\n",
    "Hence, our reduced model is : <br>\n",
    "<center> Y = β<sub>0</sub> + β<sub>2</sub> * LOT_SIZE </center>"
   ]
  },
  {
   "cell_type": "code",
   "execution_count": 19,
   "id": "96baa163",
   "metadata": {},
   "outputs": [
    {
     "name": "stdout",
     "output_type": "stream",
     "text": [
      "\u001b[1mF statistic : 4840.580788\n",
      "p value : 0.00000000000000011102\n",
      "                            OLS Regression Results                            \n",
      "==============================================================================\n",
      "Dep. Variable:        LAST_SALE_PRICE   R-squared:                       0.018\n",
      "Model:                            OLS   Adj. R-squared:                  0.018\n",
      "Method:                 Least Squares   F-statistic:                     74.69\n",
      "Date:                Thu, 03 Mar 2022   Prob (F-statistic):           7.80e-18\n",
      "Time:                        17:24:51   Log-Likelihood:                -58941.\n",
      "No. Observations:                4078   AIC:                         1.179e+05\n",
      "Df Residuals:                    4076   BIC:                         1.179e+05\n",
      "Df Model:                           1                                         \n",
      "Covariance Type:            nonrobust                                         \n",
      "==============================================================================\n",
      "                 coef    std err          t      P>|t|      [0.025      0.975]\n",
      "------------------------------------------------------------------------------\n",
      "Intercept    6.61e+05   1.18e+04     56.047      0.000    6.38e+05    6.84e+05\n",
      "LOT_SIZE      12.4077      1.436      8.642      0.000       9.593      15.222\n",
      "==============================================================================\n",
      "Omnibus:                     2740.301   Durbin-Watson:                   1.044\n",
      "Prob(Omnibus):                  0.000   Jarque-Bera (JB):            47162.499\n",
      "Skew:                           2.984   Prob(JB):                         0.00\n",
      "Kurtosis:                      18.555   Cond. No.                     1.35e+04\n",
      "==============================================================================\n",
      "\n",
      "Notes:\n",
      "[1] Standard Errors assume that the covariance matrix of the errors is correctly specified.\n",
      "[2] The condition number is large, 1.35e+04. This might indicate that there are\n",
      "strong multicollinearity or other numerical problems.\n"
     ]
    }
   ],
   "source": [
    "red_model = ols('LAST_SALE_PRICE ~ LOT_SIZE', data=df).fit()\n",
    "anovaResults = anova_lm(red_model, model2)\n",
    "f_statistic = anovaResults.values[1][4]\n",
    "print('\\033[1m'+\"F statistic : %f\"%(f_statistic))\n",
    "p = 1-stats.f.cdf(f_statistic, 1, 4062)\n",
    "print(\"p value : \"f'{p:.20f}')\n",
    "print(red_model.summary())"
   ]
  },
  {
   "cell_type": "markdown",
   "id": "fa485ab4",
   "metadata": {},
   "source": [
    "Because the p value is less than a significance level of 0.05, we __reject__ the null hypothesis that  β<sub>1</sub> = 0,<br>\n",
    "So we do not have enough evidence to say that area does not significantly affect sale price."
   ]
  },
  {
   "cell_type": "markdown",
   "id": "b6cdf34a",
   "metadata": {},
   "source": [
    "__13. Test the null hypothesis that the coefficients of both the SQFT and LOT_SIZE variables are \n",
    "equal to 0. Report the test statistic.__"
   ]
  },
  {
   "cell_type": "markdown",
   "id": "df830df4",
   "metadata": {},
   "source": [
    "The full model : <br>\n",
    "<center> Y = β<sub>0</sub> + β<sub>1</sub> * SQFT + β<sub>2</sub> * LOT_SIZE </center>\n",
    "\n",
    "We can define the null hypothesis as : <br>\n",
    "<center> H0 : β<sub>1</sub> = β<sub>2</sub> = 0  <br></center>\n",
    "\n",
    "Hence, our reduced model is : <br>\n",
    "<center> Y = β<sub>0</sub> </center>"
   ]
  },
  {
   "cell_type": "code",
   "execution_count": 62,
   "id": "550ae7c5",
   "metadata": {},
   "outputs": [
    {
     "name": "stdout",
     "output_type": "stream",
     "text": [
      "\u001b[1mF statistic : 2501.973648\n",
      "p value : 0.00000000000000011102\n"
     ]
    }
   ],
   "source": [
    "red_model2 = ols('LAST_SALE_PRICE ~ 1', data=df).fit()\n",
    "anovaResults = anova_lm(red_model2, model2)\n",
    "f_statistic = anovaResults.values[1][4]\n",
    "print('\\033[1m'+\"F statistic : %f\"%(f_statistic))\n",
    "p = 1-stats.f.cdf(f_statistic, 2, 4062)\n",
    "print(\"p value : \"f'{p:.20f}')"
   ]
  },
  {
   "cell_type": "markdown",
   "id": "0bec3b1b",
   "metadata": {},
   "source": [
    "__14. What is the distribution of the test statistic under the null hypothesis (assuming model \n",
    "assumptions are met)?__"
   ]
  },
  {
   "cell_type": "markdown",
   "id": "77698ad8",
   "metadata": {},
   "source": [
    "The distribution of the F-statistic can be described as : F<sub>p1−p0,n−p1</sub>  where n is sample size, p0 is the number of predictor variables for reduced model and p1 is the number of predictor variables for full model.<br> \n",
    "So, the test statistic follows the distribution of :<br>\n",
    "<center>F<sub> 2 , 4062</sub></center>"
   ]
  },
  {
   "cell_type": "markdown",
   "id": "371346f6",
   "metadata": {},
   "source": [
    "__15. Report the p-value for the test in Q13.__"
   ]
  },
  {
   "cell_type": "markdown",
   "id": "ceaa7b15",
   "metadata": {},
   "source": [
    "We got the p value as 0.00000000000000011102 which is extremely small so at a significance level of 0.05, we can __reject__ the null hypothesis that β<sub>1</sub> = β<sub>2</sub> = 0,<br>\n",
    "\n",
    "So we can say that either SQFT or LOT_SIZE has statitstically significant affect on sale price."
   ]
  }
 ],
 "metadata": {
  "kernelspec": {
   "display_name": "Python 3.8.9 64-bit",
   "language": "python",
   "name": "python3"
  },
  "language_info": {
   "codemirror_mode": {
    "name": "ipython",
    "version": 3
   },
   "file_extension": ".py",
   "mimetype": "text/x-python",
   "name": "python",
   "nbconvert_exporter": "python",
   "pygments_lexer": "ipython3",
   "version": "3.8.9"
  },
  "vscode": {
   "interpreter": {
    "hash": "31f2aee4e71d21fbe5cf8b01ff0e069b9275f58929596ceb00d14d90e3e16cd6"
   }
  }
 },
 "nbformat": 4,
 "nbformat_minor": 5
}
